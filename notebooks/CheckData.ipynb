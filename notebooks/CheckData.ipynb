{
 "cells": [
  {
   "cell_type": "code",
   "execution_count": 3,
   "id": "f1d4e67c",
   "metadata": {},
   "outputs": [
    {
     "name": "stdout",
     "output_type": "stream",
     "text": [
      "Number of videos: 4362\n",
      "Number of metadata records: 4362\n"
     ]
    }
   ],
   "source": [
    "import os\n",
    "import json\n",
    "\n",
    "VIDEO_DIR = \"../dataset/videos\"\n",
    "METADATA_PATH = \"../dataset/metadata.jsonl\"\n",
    "\n",
    "# Đếm số video có trong thư mục\n",
    "video_files = [f for f in os.listdir(VIDEO_DIR) if f.endswith(\".mp4\")]\n",
    "num_videos = len(video_files)\n",
    "\n",
    "# Đếm số dòng (record) trong metadata.jsonl\n",
    "with open(METADATA_PATH, \"r\", encoding=\"utf-8\") as f:\n",
    "    num_records = sum(1 for _ in f)\n",
    "\n",
    "print(f\"Number of videos: {num_videos}\")\n",
    "print(f\"Number of metadata records: {num_records}\")"
   ]
  },
  {
   "cell_type": "code",
   "execution_count": 4,
   "id": "594f3ca9",
   "metadata": {},
   "outputs": [
    {
     "name": "stdout",
     "output_type": "stream",
     "text": [
      "Metadata first sample:\n",
      "{\n",
      "  \"id\": \"D0001B\",\n",
      "  \"word\": \"địa chỉ\",\n",
      "  \"video_url\": \"dataset/videos/https://qipedc.moet.gov.vn/videos/D0001B.mp4\"\n",
      "}\n"
     ]
    }
   ],
   "source": [
    "with open(METADATA_PATH, \"r\", encoding=\"utf-8\") as f:\n",
    "    first_record = json.loads(f.readline())\n",
    "\n",
    "print(\"Metadata first sample:\")\n",
    "print(json.dumps(first_record, indent=2, ensure_ascii=False))"
   ]
  }
 ],
 "metadata": {
  "kernelspec": {
   "display_name": "base",
   "language": "python",
   "name": "python3"
  },
  "language_info": {
   "codemirror_mode": {
    "name": "ipython",
    "version": 3
   },
   "file_extension": ".py",
   "mimetype": "text/x-python",
   "name": "python",
   "nbconvert_exporter": "python",
   "pygments_lexer": "ipython3",
   "version": "3.11.7"
  }
 },
 "nbformat": 4,
 "nbformat_minor": 5
}
