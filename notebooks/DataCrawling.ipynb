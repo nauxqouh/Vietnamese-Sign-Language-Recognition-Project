{
 "cells": [
  {
   "cell_type": "markdown",
   "id": "37db5e5a",
   "metadata": {},
   "source": [
    "## 0. Install and Import Dependencies"
   ]
  },
  {
   "cell_type": "code",
   "execution_count": 7,
   "id": "1e6c0f89",
   "metadata": {},
   "outputs": [],
   "source": [
    "# pip install selenium\n",
    "# pip install webdriver-manager"
   ]
  },
  {
   "cell_type": "code",
   "execution_count": 38,
   "id": "2911650a",
   "metadata": {},
   "outputs": [
    {
     "name": "stdout",
     "output_type": "stream",
     "text": [
      "4.36.0\n",
      "2.31.0\n"
     ]
    }
   ],
   "source": [
    "import selenium\n",
    "print(selenium.__version__)\n",
    "import requests\n",
    "print(requests.__version__)"
   ]
  },
  {
   "cell_type": "code",
   "execution_count": 2,
   "id": "d8a93ba4",
   "metadata": {},
   "outputs": [],
   "source": [
    "from selenium import webdriver\n",
    "from selenium.webdriver.chrome.service import Service\n",
    "from selenium.webdriver.chrome.options import Options\n",
    "from webdriver_manager.chrome import ChromeDriverManager\n",
    "from selenium.webdriver.common.by import By\n",
    "from selenium.webdriver.support.ui import WebDriverWait\n",
    "from selenium.webdriver.support import expected_conditions\n",
    "import requests\n",
    "import time\n",
    "import os\n",
    "import json\n",
    "import urllib3\n",
    "from tqdm import tqdm"
   ]
  },
  {
   "cell_type": "markdown",
   "id": "8edba728",
   "metadata": {},
   "source": [
    "## 1. Get video data (id, word label, url)"
   ]
  },
  {
   "cell_type": "code",
   "execution_count": 29,
   "id": "ed55eca5",
   "metadata": {},
   "outputs": [
    {
     "name": "stdout",
     "output_type": "stream",
     "text": [
      "Sucessfully connected to QIPEDC website with url https://qipedc.moet.gov.vn/dictionary.\n",
      "Found 20 videos.\n",
      "Sucessfully get 20 video data in 10.913319826126099s.\n"
     ]
    }
   ],
   "source": [
    "# Setup and Access\n",
    "options = Options()\n",
    "options.add_argument(\"--headless\")\n",
    "options.add_argument(\"--ignore-certificate-errors\")\n",
    "options.add_argument(\"--allow-insecure-localhost\")\n",
    "options.add_argument(\"--ignore-ssl-errors=yes\")\n",
    "service = Service(ChromeDriverManager().install())\n",
    "driver = webdriver.Chrome(service=service, options=options)\n",
    "\n",
    "BASE_URL = \"https://qipedc.moet.gov.vn\"\n",
    "URL = \"https://qipedc.moet.gov.vn/dictionary\"\n",
    "try:\n",
    "    driver.get(URL)\n",
    "    driver.implicitly_wait(5)\n",
    "    print(f\"Sucessfully connected to {driver.title} website with url {driver.current_url}.\")\n",
    "    videos = driver.find_elements(By.CSS_SELECTOR, \"#product a\")\n",
    "    print(f\"Found {len(videos)} videos.\")\n",
    "    video_data = []\n",
    "    start_time = time.time()\n",
    "    for i, vid in enumerate(videos):\n",
    "        try:\n",
    "            # get word label\n",
    "            label = vid.find_element(By.TAG_NAME, \"p\").text.strip()\n",
    "            thumbs_url = vid.find_element(By.CSS_SELECTOR, \"img\").get_attribute(\"src\")\n",
    "            vid_id = thumbs_url.replace(\"https://qipedc.moet.gov.vn/thumbs/\", \"\").replace(\".png\", \"\")\n",
    "            video_url = f\"{BASE_URL}/videos/{vid_id}.mp4\"\n",
    "            # vid_data = onclick.split(\"'\")\n",
    "            # vid_id = vid_data[1]\n",
    "            # vid_definition = vid_data[5]\n",
    "            \n",
    "            # onclick = vid.get_attribute(\"onclick\")\n",
    "            # driver.execute_script(onclick)\n",
    "            # WebDriverWait(driver, 5).until(\n",
    "            #     expected_conditions.presence_of_element_located((By.CSS_SELECTOR, \"#s_expert\"))\n",
    "            # )\n",
    "            # iframe = driver.find_element(By.CSS_SELECTOR, \"#s_expert\")\n",
    "            # video_url = iframe.get_attribute(\"src\")\n",
    "            # video_url = video_url.replace('?autoplay=true','')\n",
    "            # print(video_url)\n",
    "            \n",
    "            video_data.append({\n",
    "                \"id\": vid_id,\n",
    "                \"word\": label,\n",
    "                \"video_url\": video_url\n",
    "            })\n",
    "            \n",
    "            # driver.execute_script(\"$('#exampleModal').modal('hide');\")\n",
    "            # close_btn = driver.find_element(By.CSS_SELECTOR, \"button[data-dismiss='modal']\")\n",
    "            # close_btn.click()\n",
    "            time.sleep(0.5)\n",
    "        except Exception as e:\n",
    "            print(f\"Error at video {i}: {e}\")\n",
    "    print(f\"Sucessfully get {len(videos)} video data in {time.time() - start_time}s.\")\n",
    "        \n",
    "except Exception as e:\n",
    "    print(f\"Error: {e}\")\n",
    "finally:\n",
    "    driver.quit()"
   ]
  },
  {
   "cell_type": "code",
   "execution_count": 30,
   "id": "d5512159",
   "metadata": {},
   "outputs": [
    {
     "data": {
      "text/plain": [
       "[{'id': 'D0001B',\n",
       "  'word': 'địa chỉ',\n",
       "  'video_url': 'https://qipedc.moet.gov.vn/videos/D0001B.mp4'},\n",
       " {'id': 'D0001N',\n",
       "  'word': 'địa chỉ',\n",
       "  'video_url': 'https://qipedc.moet.gov.vn/videos/D0001N.mp4'},\n",
       " {'id': 'D0001T',\n",
       "  'word': 'địa chỉ',\n",
       "  'video_url': 'https://qipedc.moet.gov.vn/videos/D0001T.mp4'},\n",
       " {'id': 'D0002',\n",
       "  'word': 'tỉnh',\n",
       "  'video_url': 'https://qipedc.moet.gov.vn/videos/D0002.mp4'},\n",
       " {'id': 'D0003',\n",
       "  'word': 'tiếp tân',\n",
       "  'video_url': 'https://qipedc.moet.gov.vn/videos/D0003.mp4'},\n",
       " {'id': 'D0004',\n",
       "  'word': 'nhân viên',\n",
       "  'video_url': 'https://qipedc.moet.gov.vn/videos/D0004.mp4'},\n",
       " {'id': 'D0005B',\n",
       "  'word': 'Miến Điện (nước Mi-an-ma)',\n",
       "  'video_url': 'https://qipedc.moet.gov.vn/videos/D0005B.mp4'},\n",
       " {'id': 'D0005N',\n",
       "  'word': 'Miến Điện (nước Mi-an-ma)',\n",
       "  'video_url': 'https://qipedc.moet.gov.vn/videos/D0005N.mp4'},\n",
       " {'id': 'D0005T',\n",
       "  'word': 'Miến Điện (nước Mi-an-ma)',\n",
       "  'video_url': 'https://qipedc.moet.gov.vn/videos/D0005T.mp4'},\n",
       " {'id': 'D0006',\n",
       "  'word': 'Ma Cao',\n",
       "  'video_url': 'https://qipedc.moet.gov.vn/videos/D0006.mp4'},\n",
       " {'id': 'D0007',\n",
       "  'word': 'Do Thái',\n",
       "  'video_url': 'https://qipedc.moet.gov.vn/videos/D0007.mp4'},\n",
       " {'id': 'D0008',\n",
       "  'word': 'Ả Rập (nước Ả Rập)',\n",
       "  'video_url': 'https://qipedc.moet.gov.vn/videos/D0008.mp4'},\n",
       " {'id': 'D0009',\n",
       "  'word': 'phương Tây',\n",
       "  'video_url': 'https://qipedc.moet.gov.vn/videos/D0009.mp4'},\n",
       " {'id': 'D0010',\n",
       "  'word': 'phương Đông',\n",
       "  'video_url': 'https://qipedc.moet.gov.vn/videos/D0010.mp4'},\n",
       " {'id': 'D0011',\n",
       "  'word': 'Đu Bai (nước Đu Bai)',\n",
       "  'video_url': 'https://qipedc.moet.gov.vn/videos/D0011.mp4'},\n",
       " {'id': 'D0012',\n",
       "  'word': 'Albania (nước Albania)',\n",
       "  'video_url': 'https://qipedc.moet.gov.vn/videos/D0012.mp4'},\n",
       " {'id': 'D0013',\n",
       "  'word': 'người nước ngoài',\n",
       "  'video_url': 'https://qipedc.moet.gov.vn/videos/D0013.mp4'},\n",
       " {'id': 'D0014',\n",
       "  'word': 'nhập khẩu',\n",
       "  'video_url': 'https://qipedc.moet.gov.vn/videos/D0014.mp4'},\n",
       " {'id': 'D0015',\n",
       "  'word': 'Tuy Hoà',\n",
       "  'video_url': 'https://qipedc.moet.gov.vn/videos/D0015.mp4'},\n",
       " {'id': 'D0016',\n",
       "  'word': 'Quy Nhơn',\n",
       "  'video_url': 'https://qipedc.moet.gov.vn/videos/D0016.mp4'}]"
      ]
     },
     "execution_count": 30,
     "metadata": {},
     "output_type": "execute_result"
    }
   ],
   "source": [
    "video_data"
   ]
  },
  {
   "cell_type": "markdown",
   "id": "be37449a",
   "metadata": {},
   "source": [
    "## 2. Download videos from video url"
   ]
  },
  {
   "cell_type": "code",
   "execution_count": 36,
   "id": "568d8231",
   "metadata": {},
   "outputs": [
    {
     "name": "stderr",
     "output_type": "stream",
     "text": [
      "Progess D0001B.mp4: 100%|██████████| 686k/686k [00:00<00:00, 1.03MB/s]\n",
      "Progess D0001N.mp4: 100%|██████████| 595k/595k [00:00<00:00, 1.23MB/s]\n",
      "Progess D0001T.mp4: 100%|██████████| 585k/585k [00:00<00:00, 1.41MB/s]\n",
      "Progess D0002.mp4: 100%|██████████| 1.00M/1.00M [00:00<00:00, 1.70MB/s]\n",
      "Progess D0003.mp4: 100%|██████████| 560k/560k [00:00<00:00, 1.06MB/s]\n",
      "Progess D0004.mp4: 100%|██████████| 678k/678k [00:01<00:00, 394kB/s] \n",
      "Progess D0005B.mp4: 100%|██████████| 876k/876k [00:01<00:00, 800kB/s] \n",
      "Progess D0005N.mp4: 100%|██████████| 1.06M/1.06M [00:00<00:00, 1.47MB/s]\n",
      "Progess D0005T.mp4: 100%|██████████| 1.07M/1.07M [00:00<00:00, 1.78MB/s]\n",
      "Progess D0006.mp4: 100%|██████████| 577k/577k [00:00<00:00, 1.37MB/s]\n",
      "Progess D0007.mp4: 100%|██████████| 781k/781k [00:01<00:00, 699kB/s] \n",
      "Progess D0008.mp4: 100%|██████████| 459k/459k [00:00<00:00, 1.03MB/s]\n",
      "Progess D0009.mp4: 100%|██████████| 380k/380k [00:00<00:00, 995kB/s] \n",
      "Progess D0010.mp4: 100%|██████████| 536k/536k [00:00<00:00, 1.35MB/s]\n",
      "Progess D0011.mp4: 100%|██████████| 454k/454k [00:00<00:00, 707kB/s] \n",
      "Progess D0012.mp4: 100%|██████████| 669k/669k [00:02<00:00, 259kB/s] \n",
      "Progess D0013.mp4: 100%|██████████| 450k/450k [00:00<00:00, 908kB/s]\n",
      "Progess D0014.mp4: 100%|██████████| 828k/828k [00:00<00:00, 1.46MB/s]\n",
      "Progess D0015.mp4: 100%|██████████| 714k/714k [00:00<00:00, 1.48MB/s]\n",
      "Progess D0016.mp4: 100%|██████████| 600k/600k [00:00<00:00, 1.19MB/s]\n"
     ]
    }
   ],
   "source": [
    "video_dir = 'dataset/videos'\n",
    "chunk_size = 1024*32\n",
    "\n",
    "urllib3.disable_warnings(urllib3.exceptions.InsecureRequestWarning)\n",
    "\n",
    "os.makedirs(video_dir, exist_ok=True)\n",
    "for item in video_data:\n",
    "    vid_url = item['video_url']\n",
    "    vid_id = item['id']\n",
    "    filename = f\"{vid_id}.mp4\"\n",
    "    output_path = os.path.join(video_dir, filename)\n",
    "    \n",
    "    if os.path.exists(output_path):\n",
    "        print(output_path)\n",
    "        continue\n",
    "    response = requests.get(vid_url, stream=True, verify=False, timeout=10)\n",
    "    response.raise_for_status()\n",
    "    total_size = int(response.headers.get('content-length', 0))\n",
    "    \n",
    "    with open(output_path, 'wb') as f, tqdm(\n",
    "        total=total_size, unit='B', unit_scale=True, desc=f\"Progess {filename}\"\n",
    "    ) as bar:\n",
    "        for chunk in response.iter_content(chunk_size=chunk_size):\n",
    "            if chunk:\n",
    "                f.write(chunk)\n",
    "                bar.update(len(chunk))"
   ]
  },
  {
   "cell_type": "code",
   "execution_count": null,
   "id": "090f0106",
   "metadata": {},
   "outputs": [],
   "source": [
    "from IPython.display import Video, display\n",
    "\n",
    "display(Video(\"dataset/videos/D0001B.mp4\", embed=True, width=800, height=450))"
   ]
  },
  {
   "cell_type": "markdown",
   "id": "c041d358",
   "metadata": {},
   "source": [
    "## 3. Turn page"
   ]
  },
  {
   "cell_type": "code",
   "execution_count": null,
   "id": "6206c150",
   "metadata": {},
   "outputs": [
    {
     "name": "stdout",
     "output_type": "stream",
     "text": [
      "Không thể chuyển trang 1: HTTPConnectionPool(host='localhost', port=55623): Max retries exceeded with url: /session/40266977e0a8f45e1eca8ae81f32a4b6/element (Caused by NewConnectionError('<urllib3.connection.HTTPConnection object at 0x116a83f10>: Failed to establish a new connection: [Errno 61] Connection refused'))\n",
      "Không thể chuyển trang 2: HTTPConnectionPool(host='localhost', port=55623): Max retries exceeded with url: /session/40266977e0a8f45e1eca8ae81f32a4b6/element (Caused by NewConnectionError('<urllib3.connection.HTTPConnection object at 0x116a49850>: Failed to establish a new connection: [Errno 61] Connection refused'))\n",
      "Không thể chuyển trang 3: HTTPConnectionPool(host='localhost', port=55623): Max retries exceeded with url: /session/40266977e0a8f45e1eca8ae81f32a4b6/element (Caused by NewConnectionError('<urllib3.connection.HTTPConnection object at 0x116a4b250>: Failed to establish a new connection: [Errno 61] Connection refused'))\n",
      "Không thể chuyển trang 4: HTTPConnectionPool(host='localhost', port=55623): Max retries exceeded with url: /session/40266977e0a8f45e1eca8ae81f32a4b6/element (Caused by NewConnectionError('<urllib3.connection.HTTPConnection object at 0x1145b0990>: Failed to establish a new connection: [Errno 61] Connection refused'))\n",
      "Không thể chuyển trang 5: HTTPConnectionPool(host='localhost', port=55623): Max retries exceeded with url: /session/40266977e0a8f45e1eca8ae81f32a4b6/element (Caused by NewConnectionError('<urllib3.connection.HTTPConnection object at 0x116ae4790>: Failed to establish a new connection: [Errno 61] Connection refused'))\n",
      "Không thể chuyển trang 6: HTTPConnectionPool(host='localhost', port=55623): Max retries exceeded with url: /session/40266977e0a8f45e1eca8ae81f32a4b6/element (Caused by NewConnectionError('<urllib3.connection.HTTPConnection object at 0x116a654d0>: Failed to establish a new connection: [Errno 61] Connection refused'))\n",
      "Không thể chuyển trang 7: HTTPConnectionPool(host='localhost', port=55623): Max retries exceeded with url: /session/40266977e0a8f45e1eca8ae81f32a4b6/element (Caused by NewConnectionError('<urllib3.connection.HTTPConnection object at 0x116a3dd10>: Failed to establish a new connection: [Errno 61] Connection refused'))\n",
      "Không thể chuyển trang 8: HTTPConnectionPool(host='localhost', port=55623): Max retries exceeded with url: /session/40266977e0a8f45e1eca8ae81f32a4b6/element (Caused by NewConnectionError('<urllib3.connection.HTTPConnection object at 0x1141392d0>: Failed to establish a new connection: [Errno 61] Connection refused'))\n",
      "Không thể chuyển trang 9: HTTPConnectionPool(host='localhost', port=55623): Max retries exceeded with url: /session/40266977e0a8f45e1eca8ae81f32a4b6/element (Caused by NewConnectionError('<urllib3.connection.HTTPConnection object at 0x116ae7050>: Failed to establish a new connection: [Errno 61] Connection refused'))\n",
      "Không thể chuyển trang 10: HTTPConnectionPool(host='localhost', port=55623): Max retries exceeded with url: /session/40266977e0a8f45e1eca8ae81f32a4b6/element (Caused by NewConnectionError('<urllib3.connection.HTTPConnection object at 0x116a3e790>: Failed to establish a new connection: [Errno 61] Connection refused'))\n"
     ]
    }
   ],
   "source": [
    "total_pages = 10\n",
    "\n",
    "for page_num in range(1, total_pages + 1):\n",
    "    try:\n",
    "        WebDriverWait(driver, 5).until(\n",
    "            expected_conditions.presence_of_element_located((By.CSS_SELECTOR, \"#pagination-wrapper\"))\n",
    "        )\n",
    "\n",
    "        buttons = driver.find_elements(By.CSS_SELECTOR, \"#pagination-wrapper button.page\")\n",
    "        for btn in buttons:\n",
    "            if btn.get_attribute(\"value\") == str(page_num):\n",
    "                driver.execute_script(\"arguments[0].click();\", btn)\n",
    "                time.sleep(1.5)\n",
    "\n",
    "                current_page = driver.find_element(By.CSS_SELECTOR, \"#pagination-wrapper .btn-info\")\n",
    "                print(f\"Current page: {current_page.get_attribute('value')}\")\n",
    "                break\n",
    "\n",
    "    except Exception as e:\n",
    "        print(f\"Cannot go to page {page_num}: {e}\")\n"
   ]
  }
 ],
 "metadata": {
  "kernelspec": {
   "display_name": "base",
   "language": "python",
   "name": "python3"
  },
  "language_info": {
   "codemirror_mode": {
    "name": "ipython",
    "version": 3
   },
   "file_extension": ".py",
   "mimetype": "text/x-python",
   "name": "python",
   "nbconvert_exporter": "python",
   "pygments_lexer": "ipython3",
   "version": "3.11.7"
  }
 },
 "nbformat": 4,
 "nbformat_minor": 5
}
